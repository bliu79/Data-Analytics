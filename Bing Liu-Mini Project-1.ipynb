{
 "cells": [
  {
   "cell_type": "markdown",
   "metadata": {},
   "source": [
    "#### Ask the user for a number. Depending on whether the number is even or odd, print out an appropriate message to the user. Hint: how does an even / odd number react differently when divided by 2?"
   ]
  },
  {
   "cell_type": "code",
   "execution_count": 44,
   "metadata": {},
   "outputs": [
    {
     "name": "stdout",
     "output_type": "stream",
     "text": [
      "please enter your number:14\n",
      "Good luck, you got the prize.\n"
     ]
    }
   ],
   "source": [
    "your_number = int(input ('please enter your number:'))\n",
    "if your_number % 2 == 0:\n",
    "                         print('Good luck, you got the prize.')\n",
    "else:\n",
    "                         print('sorry, may be next time!')"
   ]
  },
  {
   "cell_type": "markdown",
   "metadata": {},
   "source": [
    "# Bonus:\n"
   ]
  },
  {
   "cell_type": "markdown",
   "metadata": {},
   "source": [
    "#### If the number is a multiple of 4, print out a different message."
   ]
  },
  {
   "cell_type": "code",
   "execution_count": 58,
   "metadata": {},
   "outputs": [
    {
     "name": "stdout",
     "output_type": "stream",
     "text": [
      "please enter your number:31\n",
      "sorry, may be next time\n"
     ]
    }
   ],
   "source": [
    "your_number = int(input ('please enter your number:'))\n",
    "if your_number % 4 == 0:\n",
    "    print('ok, you passed all test, and will get the highest award.')\n",
    "elif your_number % 2 == 0:\n",
    "    print('Good luck, you got the prize.')\n",
    "else:\n",
    "    print('sorry, may be next time')"
   ]
  },
  {
   "cell_type": "markdown",
   "metadata": {},
   "source": [
    "#### Ask the user for two numbers: one number to check (call it num) and one number to divide by (check).  If check divides evenly into num, tell that to the user.  If not, print a different appropriate message.\n"
   ]
  },
  {
   "cell_type": "code",
   "execution_count": 50,
   "metadata": {},
   "outputs": [
    {
     "name": "stdout",
     "output_type": "stream",
     "text": [
      "please enter your num number: 18\n",
      "please enter your check number: 8\n",
      "Hi, your num 18 cannot be evenly divided by check 8\n"
     ]
    }
   ],
   "source": [
    "num = int(input('please enter your num number: '))\n",
    "check= int(input('please enter your check number: '))\n",
    "if num % check == 0:\n",
    "    print('Hi, your num ' + str(num) + ' can be divided by check ' + str(check))\n",
    "else:\n",
    "    print ('Hi, your num ' + str(num )+ ' cannot be evenly divided by check '+ str (check))\n",
    "    "
   ]
  },
  {
   "cell_type": "markdown",
   "metadata": {},
   "source": [
    "#### Write a custom function for finding whether the number is even or odd and call it in your main program code."
   ]
  },
  {
   "cell_type": "code",
   "execution_count": 41,
   "metadata": {},
   "outputs": [
    {
     "name": "stdout",
     "output_type": "stream",
     "text": [
      "Hello, your number 10 is even.\n"
     ]
    }
   ],
   "source": [
    "def greeting (your_number):\n",
    "    if your_number % 2 == 0:\n",
    "        print('Hello, your number ' + str(your_number) +' is even.')\n",
    "    else:\n",
    "        print('Hi, your nubmer ' + str(your_number) +' is odd.')\n",
    "greeting (10)"
   ]
  },
  {
   "cell_type": "code",
   "execution_count": 51,
   "metadata": {},
   "outputs": [
    {
     "name": "stdout",
     "output_type": "stream",
     "text": [
      "please enter your number: 9\n",
      "Hi, your nubmer 9 is odd.\n"
     ]
    }
   ],
   "source": [
    "your_number = int(input('please enter your number: '))\n",
    "def greeting (your_number):\n",
    "    if your_number % 2 == 0:\n",
    "                         print('Hello, your number' + str(your_number) +' is even.')\n",
    "    else:\n",
    "                         print('Hi, your nubmer ' + str(your_number) +' is odd.')\n",
    "greeting(your_number)\n"
   ]
  },
  {
   "cell_type": "code",
   "execution_count": null,
   "metadata": {},
   "outputs": [],
   "source": []
  },
  {
   "cell_type": "code",
   "execution_count": null,
   "metadata": {},
   "outputs": [],
   "source": []
  }
 ],
 "metadata": {
  "kernelspec": {
   "display_name": "Python 3",
   "language": "python",
   "name": "python3"
  },
  "language_info": {
   "codemirror_mode": {
    "name": "ipython",
    "version": 3
   },
   "file_extension": ".py",
   "mimetype": "text/x-python",
   "name": "python",
   "nbconvert_exporter": "python",
   "pygments_lexer": "ipython3",
   "version": "3.8.5"
  }
 },
 "nbformat": 4,
 "nbformat_minor": 4
}
